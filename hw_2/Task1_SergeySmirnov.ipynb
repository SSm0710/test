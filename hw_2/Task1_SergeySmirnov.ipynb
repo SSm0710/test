{
  "nbformat": 4,
  "nbformat_minor": 0,
  "metadata": {
    "colab": {
      "provenance": []
    },
    "kernelspec": {
      "name": "python3",
      "display_name": "Python 3"
    },
    "language_info": {
      "name": "python"
    }
  },
  "cells": [
    {
      "cell_type": "code",
      "execution_count": 5,
      "metadata": {
        "colab": {
          "base_uri": "https://localhost:8080/",
          "height": 400
        },
        "id": "3OyGR_mJu8Wa",
        "outputId": "e0c182e0-16d3-4b2f-d4b9-8aeefb843b35"
      },
      "outputs": [
        {
          "output_type": "stream",
          "name": "stdout",
          "text": [
            "Шоколадный батончик, 50.0 рублей\n",
            "Шоколадный батончик, 2.0 рублей\n",
            "Шоколадный батончик, добавка: нуга\n",
            "Обычный шоколадный батончик\n"
          ]
        },
        {
          "output_type": "error",
          "ename": "ValueError",
          "evalue": "Цена меньше нуля!",
          "traceback": [
            "\u001b[0;31m---------------------------------------------------------------------------\u001b[0m",
            "\u001b[0;31mValueError\u001b[0m                                Traceback (most recent call last)",
            "\u001b[0;32m<ipython-input-5-a5ba9c4f9d40>\u001b[0m in \u001b[0;36m<cell line: 0>\u001b[0;34m()\u001b[0m\n\u001b[1;32m     24\u001b[0m \u001b[0mchocolate_bar_2\u001b[0m\u001b[0;34m.\u001b[0m\u001b[0mshow_my_chocolate\u001b[0m\u001b[0;34m(\u001b[0m\u001b[0;34m)\u001b[0m\u001b[0;34m\u001b[0m\u001b[0;34m\u001b[0m\u001b[0m\n\u001b[1;32m     25\u001b[0m \u001b[0;34m\u001b[0m\u001b[0m\n\u001b[0;32m---> 26\u001b[0;31m \u001b[0mchocolate_bar_2\u001b[0m \u001b[0;34m=\u001b[0m \u001b[0mChocolate\u001b[0m\u001b[0;34m(\u001b[0m\u001b[0;36m0\u001b[0m\u001b[0;34m)\u001b[0m\u001b[0;34m\u001b[0m\u001b[0;34m\u001b[0m\u001b[0m\n\u001b[0m\u001b[1;32m     27\u001b[0m \u001b[0mprint\u001b[0m\u001b[0;34m(\u001b[0m\u001b[0mchocolate_bar_2\u001b[0m\u001b[0;34m)\u001b[0m\u001b[0;34m\u001b[0m\u001b[0;34m\u001b[0m\u001b[0m\n",
            "\u001b[0;32m<ipython-input-5-a5ba9c4f9d40>\u001b[0m in \u001b[0;36m__init__\u001b[0;34m(self, price, additive)\u001b[0m\n\u001b[1;32m      4\u001b[0m         \u001b[0mself\u001b[0m\u001b[0;34m.\u001b[0m\u001b[0madditive\u001b[0m \u001b[0;34m=\u001b[0m \u001b[0mstr\u001b[0m\u001b[0;34m(\u001b[0m\u001b[0madditive\u001b[0m\u001b[0;34m)\u001b[0m\u001b[0;34m\u001b[0m\u001b[0;34m\u001b[0m\u001b[0m\n\u001b[1;32m      5\u001b[0m         \u001b[0;32mif\u001b[0m \u001b[0mself\u001b[0m\u001b[0;34m.\u001b[0m\u001b[0mprice\u001b[0m \u001b[0;34m<=\u001b[0m \u001b[0;36m0\u001b[0m \u001b[0;34m:\u001b[0m\u001b[0;34m\u001b[0m\u001b[0;34m\u001b[0m\u001b[0m\n\u001b[0;32m----> 6\u001b[0;31m             \u001b[0;32mraise\u001b[0m \u001b[0mValueError\u001b[0m\u001b[0;34m(\u001b[0m\u001b[0;34m'Цена меньше нуля!'\u001b[0m\u001b[0;34m)\u001b[0m\u001b[0;34m\u001b[0m\u001b[0;34m\u001b[0m\u001b[0m\n\u001b[0m\u001b[1;32m      7\u001b[0m     \u001b[0;32mdef\u001b[0m \u001b[0mshow_my_chocolate\u001b[0m\u001b[0;34m(\u001b[0m\u001b[0mself\u001b[0m\u001b[0;34m)\u001b[0m \u001b[0;34m:\u001b[0m\u001b[0;34m\u001b[0m\u001b[0;34m\u001b[0m\u001b[0m\n\u001b[1;32m      8\u001b[0m         \u001b[0;32mif\u001b[0m \u001b[0mself\u001b[0m\u001b[0;34m.\u001b[0m\u001b[0madditive\u001b[0m \u001b[0;34m==\u001b[0m \u001b[0;34m\"None\"\u001b[0m \u001b[0;34m:\u001b[0m\u001b[0;34m\u001b[0m\u001b[0;34m\u001b[0m\u001b[0m\n",
            "\u001b[0;31mValueError\u001b[0m: Цена меньше нуля!"
          ]
        }
      ],
      "source": [
        "class Chocolate() :\n",
        "    def __init__(self, price, additive = None) :\n",
        "        self.price =  float(price)\n",
        "        self.additive = str(additive)\n",
        "        if self.price <= 0 :\n",
        "            raise ValueError('Цена меньше нуля!')\n",
        "    def show_my_chocolate(self) :\n",
        "        if self.additive == \"None\" :\n",
        "            res = f'Обычный шоколадный батончик'\n",
        "        else :\n",
        "            res = f'Шоколадный батончик, добавка: {self.additive}'\n",
        "        print(res)\n",
        "    def __str__(self) :\n",
        "        return f'Шоколадный батончик, {self.price} рублей'\n",
        "\n",
        "\n",
        "chocolate_bar_1 = Chocolate(50, \"нуга\")\n",
        "print(chocolate_bar_1)\n",
        "\n",
        "chocolate_bar_2 = Chocolate(2)\n",
        "print(chocolate_bar_2)\n",
        "\n",
        "chocolate_bar_1.show_my_chocolate()\n",
        "chocolate_bar_2.show_my_chocolate()\n",
        "\n",
        "chocolate_bar_2 = Chocolate(0)\n",
        "print(chocolate_bar_2)"
      ]
    }
  ]
}